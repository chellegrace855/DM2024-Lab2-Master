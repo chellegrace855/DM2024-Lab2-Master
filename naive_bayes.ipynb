{
 "cells": [
  {
   "cell_type": "code",
   "execution_count": 1,
   "metadata": {},
   "outputs": [],
   "source": [
    "import json\n",
    "import pandas as pd\n",
    "import numpy as np\n",
    "import re\n",
    "from sklearn.feature_extraction.text import TfidfVectorizer, HashingVectorizer\n",
    "from sklearn.preprocessing import LabelEncoder\n",
    "from sklearn.naive_bayes import MultinomialNB\n",
    "from sklearn.linear_model import LogisticRegression\n",
    "from sklearn.model_selection import train_test_split\n",
    "from sklearn.metrics import classification_report\n",
    "import time\n"
   ]
  },
  {
   "cell_type": "code",
   "execution_count": 2,
   "metadata": {},
   "outputs": [],
   "source": [
    "# Load data_identification.csv\n",
    "data_identification = pd.read_csv('data_identification.csv')\n",
    "\n",
    "# Load emotion.csv\n",
    "emotion = pd.read_csv('emotion.csv')\n",
    "\n",
    "# Merge emotion labels with data_identification\n",
    "data_identification = data_identification.merge(emotion, on='tweet_id', how='left')\n"
   ]
  },
  {
   "cell_type": "code",
   "execution_count": 3,
   "metadata": {},
   "outputs": [],
   "source": [
    "# Initialize lists to hold tweet data\n",
    "tweet_ids = []\n",
    "tweet_texts = []\n",
    "\n",
    "# Read tweets_DM.json\n",
    "with open('tweets_DM.json', 'r', encoding='utf-8') as f:\n",
    "    for line in f:\n",
    "        try:\n",
    "            tweet_json = json.loads(line)\n",
    "            tweet_id = tweet_json['_source']['tweet']['tweet_id']\n",
    "            tweet_text = tweet_json['_source']['tweet']['text']\n",
    "            tweet_ids.append(tweet_id)\n",
    "            tweet_texts.append(tweet_text)\n",
    "        except json.JSONDecodeError:\n",
    "            continue\n",
    "\n",
    "# Create a DataFrame\n",
    "tweets_df = pd.DataFrame({'tweet_id': tweet_ids, 'text': tweet_texts})\n"
   ]
  },
  {
   "cell_type": "code",
   "execution_count": 4,
   "metadata": {},
   "outputs": [],
   "source": [
    "# Merge tweets with data_identification\n",
    "data = data_identification.merge(tweets_df, on='tweet_id', how='left')\n",
    "\n",
    "# Drop rows with missing tweets\n",
    "data = data.dropna(subset=['text'])\n"
   ]
  },
  {
   "cell_type": "code",
   "execution_count": 5,
   "metadata": {},
   "outputs": [],
   "source": [
    "def preprocess_tweet(tweet_text):\n",
    "    # Replace <LH> with [EMOTION]\n",
    "    tweet_text = tweet_text.replace('<LH>', '')\n",
    "    # Minimal cleaning: remove URLs and mentions\n",
    "    tweet_text = re.sub(r'http\\S+|www\\S+|https\\S+', '', tweet_text)\n",
    "    tweet_text = re.sub(r'\\@\\w+', '', tweet_text)\n",
    "    return tweet_text\n",
    "\n",
    "# Apply preprocessing\n",
    "data['clean_text'] = data['text'].apply(preprocess_tweet)\n"
   ]
  },
  {
   "cell_type": "code",
   "execution_count": 6,
   "metadata": {},
   "outputs": [
    {
     "name": "stderr",
     "output_type": "stream",
     "text": [
      "/var/folders/mz/t_xgtgys08sd9yztf__zlr9h0000gn/T/ipykernel_26352/236282954.py:7: SettingWithCopyWarning: \n",
      "A value is trying to be set on a copy of a slice from a DataFrame.\n",
      "Try using .loc[row_indexer,col_indexer] = value instead\n",
      "\n",
      "See the caveats in the documentation: https://pandas.pydata.org/pandas-docs/stable/user_guide/indexing.html#returning-a-view-versus-a-copy\n",
      "  train_data['label'] = label_encoder.fit_transform(train_data['emotion'])\n"
     ]
    }
   ],
   "source": [
    "# Split data into training and test sets\n",
    "train_data = data[data['identification'] == 'train']\n",
    "test_data = data[data['identification'] == 'test']\n",
    "\n",
    "# Encode labels\n",
    "label_encoder = LabelEncoder()\n",
    "train_data['label'] = label_encoder.fit_transform(train_data['emotion'])\n"
   ]
  },
  {
   "cell_type": "code",
   "execution_count": 7,
   "metadata": {},
   "outputs": [],
   "source": [
    "# Use TfidfVectorizer or HashingVectorizer\n",
    "vectorizer = TfidfVectorizer(\n",
    "    max_features=50000,  # Limit features to speed up\n",
    "    ngram_range=(1, 2),  # Use unigrams and bigrams\n",
    "    stop_words='english'\n",
    ")\n",
    "\n",
    "# Fit and transform training data\n",
    "X_train = vectorizer.fit_transform(train_data['clean_text'])\n",
    "\n",
    "# Transform test data\n",
    "X_test = vectorizer.transform(test_data['clean_text'])\n",
    "\n",
    "# Labels\n",
    "y_train = train_data['label']\n"
   ]
  },
  {
   "cell_type": "code",
   "execution_count": 8,
   "metadata": {},
   "outputs": [],
   "source": [
    "# You can choose between MultinomialNB or LogisticRegression\n",
    "# Multinomial Naive Bayes\n",
    "# clf = MultinomialNB()\n",
    "\n",
    "# Or Logistic Regression\n",
    "clf = LogisticRegression(max_iter=2000, n_jobs=-1)\n"
   ]
  },
  {
   "cell_type": "code",
   "execution_count": 9,
   "metadata": {},
   "outputs": [
    {
     "name": "stdout",
     "output_type": "stream",
     "text": [
      "Training time: 230.32 seconds\n"
     ]
    }
   ],
   "source": [
    "start_time = time.time()\n",
    "\n",
    "clf.fit(X_train, y_train)\n",
    "\n",
    "training_time = time.time() - start_time\n",
    "print(f\"Training time: {training_time:.2f} seconds\")\n"
   ]
  },
  {
   "cell_type": "code",
   "execution_count": 10,
   "metadata": {},
   "outputs": [
    {
     "name": "stdout",
     "output_type": "stream",
     "text": [
      "              precision    recall  f1-score   support\n",
      "\n",
      "       anger       0.63      0.22      0.33     11960\n",
      "anticipation       0.62      0.55      0.58     74681\n",
      "     disgust       0.47      0.38      0.42     41730\n",
      "        fear       0.69      0.36      0.47     19200\n",
      "         joy       0.54      0.80      0.65    154805\n",
      "     sadness       0.48      0.45      0.47     58031\n",
      "    surprise       0.65      0.21      0.32     14619\n",
      "       trust       0.55      0.31      0.40     61643\n",
      "\n",
      "    accuracy                           0.55    436669\n",
      "   macro avg       0.58      0.41      0.45    436669\n",
      "weighted avg       0.55      0.55      0.53    436669\n",
      "\n"
     ]
    }
   ],
   "source": [
    "# Split a small validation set if needed\n",
    "X_train_sub, X_val, y_train_sub, y_val = train_test_split(\n",
    "    X_train, y_train, test_size=0.3, random_state=10, stratify=y_train\n",
    ")\n",
    "\n",
    "# Re-train on subset if necessary\n",
    "clf.fit(X_train_sub, y_train_sub)\n",
    "\n",
    "# Predict on validation set\n",
    "y_val_pred = clf.predict(X_val)\n",
    "\n",
    "# Evaluate\n",
    "print(classification_report(y_val, y_val_pred, target_names=label_encoder.classes_))\n"
   ]
  },
  {
   "cell_type": "code",
   "execution_count": 11,
   "metadata": {},
   "outputs": [],
   "source": [
    "# Predict on the test data\n",
    "test_pred = clf.predict(X_test)\n",
    "\n",
    "# Map numeric labels back to emotion strings\n",
    "test_pred_emotions = label_encoder.inverse_transform(test_pred)\n"
   ]
  },
  {
   "cell_type": "code",
   "execution_count": 12,
   "metadata": {},
   "outputs": [],
   "source": [
    "submission_df = pd.DataFrame({\n",
    "    'id': test_data['tweet_id'],\n",
    "    'emotion': test_pred_emotions\n",
    "})\n",
    "\n",
    "# Save to CSV\n",
    "submission_df.to_csv('change.csv', index=False)\n"
   ]
  },
  {
   "cell_type": "code",
   "execution_count": null,
   "metadata": {},
   "outputs": [],
   "source": []
  },
  {
   "cell_type": "code",
   "execution_count": null,
   "metadata": {},
   "outputs": [],
   "source": []
  }
 ],
 "metadata": {
  "kernelspec": {
   "display_name": "Python 3",
   "language": "python",
   "name": "python3"
  },
  "language_info": {
   "codemirror_mode": {
    "name": "ipython",
    "version": 3
   },
   "file_extension": ".py",
   "mimetype": "text/x-python",
   "name": "python",
   "nbconvert_exporter": "python",
   "pygments_lexer": "ipython3",
   "version": "3.11.9"
  }
 },
 "nbformat": 4,
 "nbformat_minor": 2
}
